{
  "nbformat": 4,
  "nbformat_minor": 5,
  "metadata": {
    "kernelspec": {
      "display_name": "Python 3",
      "language": "python",
      "name": "python3"
    },
    "language_info": {
      "codemirror_mode": {
        "name": "ipython",
        "version": 3
      },
      "file_extension": ".py",
      "mimetype": "text/x-python",
      "name": "python",
      "nbconvert_exporter": "python",
      "pygments_lexer": "ipython3",
      "version": "3.8.8"
    },
    "colab": {
      "name": "Projeto Final.ipynb",
      "provenance": []
    }
  },
  "cells": [
    {
      "cell_type": "markdown",
      "metadata": {
        "id": "89088e8b"
      },
      "source": [
        "# Projeto Final\n",
        "\n",
        "## Analisando Fluxo de Transito\n",
        "\n",
        "Todos nós sabemos dos problemas relacionados ao transito de recife. Para identificar o volume de transito tomou como base os dados relacionados a foto sensores.\n",
        "\n",
        "Dados de Equipament foto sensores: http://dados.recife.pe.gov.br/dataset/velocidade-das-vias-quantitativo-por-velocidade-media-2020/resource/94c283c0-cbfb-4540-9589-e62cd6ca039a\n",
        "<p><b>Nome do Arquivo: </b>lombadas-fotossensores.csv</p>\n",
        "\n",
        "esses são os dados de fluxo com base nos foto senssores: http://dados.recife.pe.gov.br/dataset/velocidade-das-vias-quantitativo-por-velocidade-media-2020/resource/7bf5f821-4ec4-47f4-b8ba-c1ab6a1cec3d\n",
        "<p><b>Nome do Arquivo: </b>57439713-9d98-49b9-a985-e934debf2195.csv</p>\n",
        "\n",
        "além de dados relacionados a Area urbana: http://dados.recife.pe.gov.br/dataset/area-urbana/resource/a642296d-1405-4918-87db-4ce88ba182f5?inner_span=True\n",
        "<p><b>Nome do Arquivo: </b>trechoslogradouro.csv</p>\n"
      ],
      "id": "89088e8b"
    },
    {
      "cell_type": "code",
      "metadata": {
        "scrolled": true,
        "colab": {
          "base_uri": "https://localhost:8080/"
        },
        "id": "14d3cbc4",
        "outputId": "927704a8-8330-4396-bc3e-940c782f12ca"
      },
      "source": [
        "import pandas as pd\n",
        "import matplotlib.pyplot as plt\n",
        "%matplotlib inline\n",
        "import seaborn as sns\n",
        "import numpy as np\n",
        "!git clone https://github.com/sauloemp/WebStreetPE.git"
      ],
      "id": "14d3cbc4",
      "execution_count": 8,
      "outputs": [
        {
          "output_type": "stream",
          "name": "stdout",
          "text": [
            "Cloning into 'WebStreetPE'...\n",
            "remote: Enumerating objects: 9, done.\u001b[K\n",
            "remote: Counting objects: 100% (9/9), done.\u001b[K\n",
            "remote: Compressing objects: 100% (7/7), done.\u001b[K\n",
            "remote: Total 9 (delta 0), reused 0 (delta 0), pack-reused 0\u001b[K\n",
            "Unpacking objects: 100% (9/9), done.\n"
          ]
        }
      ]
    },
    {
      "cell_type": "markdown",
      "metadata": {
        "id": "8f1b30cd"
      },
      "source": [
        "## Trabalhando dados de Lombadas e foto senssores"
      ],
      "id": "8f1b30cd"
    },
    {
      "cell_type": "code",
      "metadata": {
        "colab": {
          "base_uri": "https://localhost:8080/",
          "height": 206
        },
        "id": "c69005b7",
        "outputId": "b6ce5d8e-88bd-4faf-b7d8-33bdf0d0be71"
      },
      "source": [
        "dfLobadas = pd.read_csv(\"/content/WebStreetPE/lombadas-fotossensores.csv\", sep = \";\")\n",
        "dfLobadas.head()"
      ],
      "id": "c69005b7",
      "execution_count": 13,
      "outputs": [
        {
          "output_type": "execute_result",
          "data": {
            "text/html": [
              "<div>\n",
              "<style scoped>\n",
              "    .dataframe tbody tr th:only-of-type {\n",
              "        vertical-align: middle;\n",
              "    }\n",
              "\n",
              "    .dataframe tbody tr th {\n",
              "        vertical-align: top;\n",
              "    }\n",
              "\n",
              "    .dataframe thead th {\n",
              "        text-align: right;\n",
              "    }\n",
              "</style>\n",
              "<table border=\"1\" class=\"dataframe\">\n",
              "  <thead>\n",
              "    <tr style=\"text-align: right;\">\n",
              "      <th></th>\n",
              "      <th>equipamento</th>\n",
              "      <th>tipo</th>\n",
              "      <th>logradouro</th>\n",
              "      <th>velocidade_via</th>\n",
              "      <th>latitude</th>\n",
              "      <th>longitude</th>\n",
              "    </tr>\n",
              "  </thead>\n",
              "  <tbody>\n",
              "    <tr>\n",
              "      <th>0</th>\n",
              "      <td>5941</td>\n",
              "      <td>Lombada</td>\n",
              "      <td>AV. MAL. MASCARENHAS DE MORAES, EM FRENTE AERO...</td>\n",
              "      <td>60 km/h</td>\n",
              "      <td>-8.130970</td>\n",
              "      <td>-34.916161</td>\n",
              "    </tr>\n",
              "    <tr>\n",
              "      <th>1</th>\n",
              "      <td>5942</td>\n",
              "      <td>Lombada</td>\n",
              "      <td>AV. MAL. MASCARENHAS DE MORAES, EM FRENTE AERO...</td>\n",
              "      <td>60 km/h</td>\n",
              "      <td>-8.130647</td>\n",
              "      <td>-34.915886</td>\n",
              "    </tr>\n",
              "    <tr>\n",
              "      <th>2</th>\n",
              "      <td>5943</td>\n",
              "      <td>Lombada</td>\n",
              "      <td>AV. BOA VIAGEM - TERCEIRO JARDIM</td>\n",
              "      <td>60 km/h</td>\n",
              "      <td>-8.107843</td>\n",
              "      <td>-34.888161</td>\n",
              "    </tr>\n",
              "    <tr>\n",
              "      <th>3</th>\n",
              "      <td>5944</td>\n",
              "      <td>Lombada</td>\n",
              "      <td>DEFRONTE A PCA. GOV. PAULO GUERRA, CABANGA - S...</td>\n",
              "      <td>60 km/h</td>\n",
              "      <td>-8.080121</td>\n",
              "      <td>-34.892187</td>\n",
              "    </tr>\n",
              "    <tr>\n",
              "      <th>4</th>\n",
              "      <td>5945</td>\n",
              "      <td>Lombada</td>\n",
              "      <td>APOS PONTE AGAMENON MAGALHAES, CABANGA - SENT....</td>\n",
              "      <td>60 km/h</td>\n",
              "      <td>-8.080820</td>\n",
              "      <td>-34.891159</td>\n",
              "    </tr>\n",
              "  </tbody>\n",
              "</table>\n",
              "</div>"
            ],
            "text/plain": [
              "  equipamento     tipo  ...  latitude  longitude\n",
              "0        5941  Lombada  ... -8.130970 -34.916161\n",
              "1        5942  Lombada  ... -8.130647 -34.915886\n",
              "2        5943  Lombada  ... -8.107843 -34.888161\n",
              "3        5944  Lombada  ... -8.080121 -34.892187\n",
              "4        5945  Lombada  ... -8.080820 -34.891159\n",
              "\n",
              "[5 rows x 6 columns]"
            ]
          },
          "metadata": {},
          "execution_count": 13
        }
      ]
    },
    {
      "cell_type": "markdown",
      "metadata": {
        "id": "df34c70c"
      },
      "source": [
        "## Trabalhando Dados de Fluxo"
      ],
      "id": "df34c70c"
    },
    {
      "cell_type": "code",
      "metadata": {
        "scrolled": true,
        "colab": {
          "base_uri": "https://localhost:8080/",
          "height": 313
        },
        "id": "59fe5107",
        "outputId": "fe351a12-4d74-43c3-def4-095b366a1f3a"
      },
      "source": [
        "dfFluxo = pd.read_csv(r\"/content/WebStreetPE/57439713-9d98-49b9-a985-e934debf2195.csv\", sep = \",\")\n",
        "dfFluxo.head()"
      ],
      "id": "59fe5107",
      "execution_count": 14,
      "outputs": [
        {
          "output_type": "execute_result",
          "data": {
            "text/html": [
              "<div>\n",
              "<style scoped>\n",
              "    .dataframe tbody tr th:only-of-type {\n",
              "        vertical-align: middle;\n",
              "    }\n",
              "\n",
              "    .dataframe tbody tr th {\n",
              "        vertical-align: top;\n",
              "    }\n",
              "\n",
              "    .dataframe thead th {\n",
              "        text-align: right;\n",
              "    }\n",
              "</style>\n",
              "<table border=\"1\" class=\"dataframe\">\n",
              "  <thead>\n",
              "    <tr style=\"text-align: right;\">\n",
              "      <th></th>\n",
              "      <th>_id</th>\n",
              "      <th>mes</th>\n",
              "      <th>equipamento</th>\n",
              "      <th>faixa</th>\n",
              "      <th>data</th>\n",
              "      <th>hora</th>\n",
              "      <th>minutos_intervalo</th>\n",
              "      <th>qtd_0a10km</th>\n",
              "      <th>qtd_11a20km</th>\n",
              "      <th>qtd_21a30km</th>\n",
              "      <th>qtd_31a40km</th>\n",
              "      <th>qtd_41a50km</th>\n",
              "      <th>qtd_51a60km</th>\n",
              "      <th>qtd_61a70km</th>\n",
              "      <th>qtd_71a80km</th>\n",
              "      <th>qtd_81a90km</th>\n",
              "      <th>qtd_91a100km</th>\n",
              "      <th>qtd_acimade100km</th>\n",
              "    </tr>\n",
              "  </thead>\n",
              "  <tbody>\n",
              "    <tr>\n",
              "      <th>0</th>\n",
              "      <td>1</td>\n",
              "      <td>12</td>\n",
              "      <td>FS002REC</td>\n",
              "      <td>1</td>\n",
              "      <td>2020-12-01T00:00:00</td>\n",
              "      <td>1</td>\n",
              "      <td>0-15</td>\n",
              "      <td>1</td>\n",
              "      <td>1</td>\n",
              "      <td>0</td>\n",
              "      <td>0</td>\n",
              "      <td>0</td>\n",
              "      <td>0</td>\n",
              "      <td>0</td>\n",
              "      <td>0</td>\n",
              "      <td>0</td>\n",
              "      <td>0</td>\n",
              "      <td>0</td>\n",
              "    </tr>\n",
              "    <tr>\n",
              "      <th>1</th>\n",
              "      <td>2</td>\n",
              "      <td>12</td>\n",
              "      <td>FS002REC</td>\n",
              "      <td>1</td>\n",
              "      <td>2020-12-01T00:00:00</td>\n",
              "      <td>1</td>\n",
              "      <td>31-45</td>\n",
              "      <td>1</td>\n",
              "      <td>0</td>\n",
              "      <td>0</td>\n",
              "      <td>0</td>\n",
              "      <td>0</td>\n",
              "      <td>0</td>\n",
              "      <td>0</td>\n",
              "      <td>0</td>\n",
              "      <td>0</td>\n",
              "      <td>0</td>\n",
              "      <td>0</td>\n",
              "    </tr>\n",
              "    <tr>\n",
              "      <th>2</th>\n",
              "      <td>3</td>\n",
              "      <td>12</td>\n",
              "      <td>FS002REC</td>\n",
              "      <td>1</td>\n",
              "      <td>2020-12-01T00:00:00</td>\n",
              "      <td>1</td>\n",
              "      <td>46-59</td>\n",
              "      <td>0</td>\n",
              "      <td>2</td>\n",
              "      <td>1</td>\n",
              "      <td>0</td>\n",
              "      <td>0</td>\n",
              "      <td>0</td>\n",
              "      <td>0</td>\n",
              "      <td>0</td>\n",
              "      <td>0</td>\n",
              "      <td>0</td>\n",
              "      <td>0</td>\n",
              "    </tr>\n",
              "    <tr>\n",
              "      <th>3</th>\n",
              "      <td>4</td>\n",
              "      <td>12</td>\n",
              "      <td>FS002REC</td>\n",
              "      <td>1</td>\n",
              "      <td>2020-12-01T00:00:00</td>\n",
              "      <td>2</td>\n",
              "      <td>16-30</td>\n",
              "      <td>0</td>\n",
              "      <td>0</td>\n",
              "      <td>1</td>\n",
              "      <td>1</td>\n",
              "      <td>0</td>\n",
              "      <td>0</td>\n",
              "      <td>0</td>\n",
              "      <td>0</td>\n",
              "      <td>0</td>\n",
              "      <td>0</td>\n",
              "      <td>0</td>\n",
              "    </tr>\n",
              "    <tr>\n",
              "      <th>4</th>\n",
              "      <td>5</td>\n",
              "      <td>12</td>\n",
              "      <td>FS002REC</td>\n",
              "      <td>1</td>\n",
              "      <td>2020-12-01T00:00:00</td>\n",
              "      <td>2</td>\n",
              "      <td>46-59</td>\n",
              "      <td>2</td>\n",
              "      <td>1</td>\n",
              "      <td>0</td>\n",
              "      <td>0</td>\n",
              "      <td>0</td>\n",
              "      <td>0</td>\n",
              "      <td>0</td>\n",
              "      <td>0</td>\n",
              "      <td>0</td>\n",
              "      <td>0</td>\n",
              "      <td>0</td>\n",
              "    </tr>\n",
              "  </tbody>\n",
              "</table>\n",
              "</div>"
            ],
            "text/plain": [
              "   _id  mes equipamento  ...  qtd_81a90km qtd_91a100km  qtd_acimade100km\n",
              "0    1   12    FS002REC  ...            0            0                 0\n",
              "1    2   12    FS002REC  ...            0            0                 0\n",
              "2    3   12    FS002REC  ...            0            0                 0\n",
              "3    4   12    FS002REC  ...            0            0                 0\n",
              "4    5   12    FS002REC  ...            0            0                 0\n",
              "\n",
              "[5 rows x 18 columns]"
            ]
          },
          "metadata": {},
          "execution_count": 14
        }
      ]
    },
    {
      "cell_type": "code",
      "metadata": {
        "colab": {
          "base_uri": "https://localhost:8080/"
        },
        "id": "b7fb9268",
        "outputId": "caa1ccc2-d9ef-46b9-a90c-8e9ec70fc186"
      },
      "source": [
        "dfFluxo['equipamento'].unique()"
      ],
      "id": "b7fb9268",
      "execution_count": 15,
      "outputs": [
        {
          "output_type": "execute_result",
          "data": {
            "text/plain": [
              "array(['FS002REC', 'FS003REC', 'FS004REC', 'FS006REC', 'FS009REC',\n",
              "       'FS010REC', 'FS012REC', 'FS014REC', 'FS018REC', 'FS020REC',\n",
              "       'FS021REC', 'FS022REC', 'FS023REC', 'FS024REC', 'FS025REC',\n",
              "       'FS026REC', 'FS027REC', 'FS028REC', 'FS029REC', 'FS030REC',\n",
              "       'FS033REC', 'FS037REC'], dtype=object)"
            ]
          },
          "metadata": {},
          "execution_count": 15
        }
      ]
    },
    {
      "cell_type": "code",
      "metadata": {
        "colab": {
          "base_uri": "https://localhost:8080/"
        },
        "id": "498a14e2",
        "outputId": "83b4fa71-d163-410e-eaa8-989a87574b7b"
      },
      "source": [
        "dfFluxo.iloc[:,7:].sum(axis=1)"
      ],
      "id": "498a14e2",
      "execution_count": 16,
      "outputs": [
        {
          "output_type": "execute_result",
          "data": {
            "text/plain": [
              "0          2\n",
              "1          1\n",
              "2          3\n",
              "3          2\n",
              "4          3\n",
              "          ..\n",
              "152253    12\n",
              "152254     6\n",
              "152255     1\n",
              "152256     6\n",
              "152257     3\n",
              "Length: 152258, dtype: int64"
            ]
          },
          "metadata": {},
          "execution_count": 16
        }
      ]
    },
    {
      "cell_type": "code",
      "metadata": {
        "scrolled": true,
        "colab": {
          "base_uri": "https://localhost:8080/",
          "height": 206
        },
        "id": "6ee8b4bc",
        "outputId": "fad3d5cd-630a-4d99-e199-16f15762c343"
      },
      "source": [
        "dfFotossensoresBase = dfFluxo.iloc[:,:7]\n",
        "dfFotossensoresSomatorio = dfFluxo.iloc[:,7:].sum(axis=1)\n",
        "dfFotossensoresBase['Fluxo'] = dfFotossensoresSomatorio\n",
        "dfFotossensoresBase.head()"
      ],
      "id": "6ee8b4bc",
      "execution_count": 17,
      "outputs": [
        {
          "output_type": "execute_result",
          "data": {
            "text/html": [
              "<div>\n",
              "<style scoped>\n",
              "    .dataframe tbody tr th:only-of-type {\n",
              "        vertical-align: middle;\n",
              "    }\n",
              "\n",
              "    .dataframe tbody tr th {\n",
              "        vertical-align: top;\n",
              "    }\n",
              "\n",
              "    .dataframe thead th {\n",
              "        text-align: right;\n",
              "    }\n",
              "</style>\n",
              "<table border=\"1\" class=\"dataframe\">\n",
              "  <thead>\n",
              "    <tr style=\"text-align: right;\">\n",
              "      <th></th>\n",
              "      <th>_id</th>\n",
              "      <th>mes</th>\n",
              "      <th>equipamento</th>\n",
              "      <th>faixa</th>\n",
              "      <th>data</th>\n",
              "      <th>hora</th>\n",
              "      <th>minutos_intervalo</th>\n",
              "      <th>Fluxo</th>\n",
              "    </tr>\n",
              "  </thead>\n",
              "  <tbody>\n",
              "    <tr>\n",
              "      <th>0</th>\n",
              "      <td>1</td>\n",
              "      <td>12</td>\n",
              "      <td>FS002REC</td>\n",
              "      <td>1</td>\n",
              "      <td>2020-12-01T00:00:00</td>\n",
              "      <td>1</td>\n",
              "      <td>0-15</td>\n",
              "      <td>2</td>\n",
              "    </tr>\n",
              "    <tr>\n",
              "      <th>1</th>\n",
              "      <td>2</td>\n",
              "      <td>12</td>\n",
              "      <td>FS002REC</td>\n",
              "      <td>1</td>\n",
              "      <td>2020-12-01T00:00:00</td>\n",
              "      <td>1</td>\n",
              "      <td>31-45</td>\n",
              "      <td>1</td>\n",
              "    </tr>\n",
              "    <tr>\n",
              "      <th>2</th>\n",
              "      <td>3</td>\n",
              "      <td>12</td>\n",
              "      <td>FS002REC</td>\n",
              "      <td>1</td>\n",
              "      <td>2020-12-01T00:00:00</td>\n",
              "      <td>1</td>\n",
              "      <td>46-59</td>\n",
              "      <td>3</td>\n",
              "    </tr>\n",
              "    <tr>\n",
              "      <th>3</th>\n",
              "      <td>4</td>\n",
              "      <td>12</td>\n",
              "      <td>FS002REC</td>\n",
              "      <td>1</td>\n",
              "      <td>2020-12-01T00:00:00</td>\n",
              "      <td>2</td>\n",
              "      <td>16-30</td>\n",
              "      <td>2</td>\n",
              "    </tr>\n",
              "    <tr>\n",
              "      <th>4</th>\n",
              "      <td>5</td>\n",
              "      <td>12</td>\n",
              "      <td>FS002REC</td>\n",
              "      <td>1</td>\n",
              "      <td>2020-12-01T00:00:00</td>\n",
              "      <td>2</td>\n",
              "      <td>46-59</td>\n",
              "      <td>3</td>\n",
              "    </tr>\n",
              "  </tbody>\n",
              "</table>\n",
              "</div>"
            ],
            "text/plain": [
              "   _id  mes equipamento  ...  hora minutos_intervalo  Fluxo\n",
              "0    1   12    FS002REC  ...     1              0-15      2\n",
              "1    2   12    FS002REC  ...     1             31-45      1\n",
              "2    3   12    FS002REC  ...     1             46-59      3\n",
              "3    4   12    FS002REC  ...     2             16-30      2\n",
              "4    5   12    FS002REC  ...     2             46-59      3\n",
              "\n",
              "[5 rows x 8 columns]"
            ]
          },
          "metadata": {},
          "execution_count": 17
        }
      ]
    },
    {
      "cell_type": "code",
      "metadata": {
        "id": "5a518a31"
      },
      "source": [
        "dfFotossensoresBase.drop(columns=['_id','faixa','mes', 'minutos_intervalo','hora','data'], inplace= True)"
      ],
      "id": "5a518a31",
      "execution_count": 18,
      "outputs": []
    },
    {
      "cell_type": "code",
      "metadata": {
        "id": "8045cdeb"
      },
      "source": [
        "dfFotossensoresBase = dfFotossensoresBase.groupby(by=['equipamento']).sum('Fluxo').reset_index()"
      ],
      "id": "8045cdeb",
      "execution_count": 19,
      "outputs": []
    },
    {
      "cell_type": "code",
      "metadata": {
        "scrolled": true,
        "id": "5f0a00f0"
      },
      "source": [
        "dfFotossensoresBase['codFotoSensor'] = dfFotossensoresBase['equipamento'].str.split(\"REC\", expand=False)\n",
        "dfFotossensoresBase['codFotoSensor'] = dfFotossensoresBase['equipamento'].str.split(\"REC\", expand=True)"
      ],
      "id": "5f0a00f0",
      "execution_count": 20,
      "outputs": []
    },
    {
      "cell_type": "code",
      "metadata": {
        "id": "c79e6d09"
      },
      "source": [
        "dfMergeSensorEquip = pd.merge(dfFotossensoresBase,dfLobadas, left_on='codFotoSensor',right_on='equipamento')"
      ],
      "id": "c79e6d09",
      "execution_count": 21,
      "outputs": []
    },
    {
      "cell_type": "code",
      "metadata": {
        "id": "e74fa2de"
      },
      "source": [
        "dfMergeSensorEquip.sort_values('Fluxo',inplace=True)"
      ],
      "id": "e74fa2de",
      "execution_count": 22,
      "outputs": []
    },
    {
      "cell_type": "code",
      "metadata": {
        "scrolled": true,
        "colab": {
          "base_uri": "https://localhost:8080/",
          "height": 982
        },
        "id": "9e79b93e",
        "outputId": "9748bc46-0d38-489d-e87c-97b32b0669e6"
      },
      "source": [
        "dfMergeSensorEquip"
      ],
      "id": "9e79b93e",
      "execution_count": 23,
      "outputs": [
        {
          "output_type": "execute_result",
          "data": {
            "text/html": [
              "<div>\n",
              "<style scoped>\n",
              "    .dataframe tbody tr th:only-of-type {\n",
              "        vertical-align: middle;\n",
              "    }\n",
              "\n",
              "    .dataframe tbody tr th {\n",
              "        vertical-align: top;\n",
              "    }\n",
              "\n",
              "    .dataframe thead th {\n",
              "        text-align: right;\n",
              "    }\n",
              "</style>\n",
              "<table border=\"1\" class=\"dataframe\">\n",
              "  <thead>\n",
              "    <tr style=\"text-align: right;\">\n",
              "      <th></th>\n",
              "      <th>equipamento_x</th>\n",
              "      <th>Fluxo</th>\n",
              "      <th>codFotoSensor</th>\n",
              "      <th>equipamento_y</th>\n",
              "      <th>tipo</th>\n",
              "      <th>logradouro</th>\n",
              "      <th>velocidade_via</th>\n",
              "      <th>latitude</th>\n",
              "      <th>longitude</th>\n",
              "    </tr>\n",
              "  </thead>\n",
              "  <tbody>\n",
              "    <tr>\n",
              "      <th>8</th>\n",
              "      <td>FS018REC</td>\n",
              "      <td>30677</td>\n",
              "      <td>FS018</td>\n",
              "      <td>FS018</td>\n",
              "      <td>Fotossensor</td>\n",
              "      <td>AV. DEZESSETE DE AGOSTO, SEMAFORO 370.</td>\n",
              "      <td>60 Km/h</td>\n",
              "      <td>-8.027762</td>\n",
              "      <td>-34.928001</td>\n",
              "    </tr>\n",
              "    <tr>\n",
              "      <th>1</th>\n",
              "      <td>FS003REC</td>\n",
              "      <td>43147</td>\n",
              "      <td>FS003</td>\n",
              "      <td>FS003</td>\n",
              "      <td>Fotossensor</td>\n",
              "      <td>AV. MARQUES DE OLINDA, SEMAFORO 020.</td>\n",
              "      <td>30 Km/h</td>\n",
              "      <td>-8.063579</td>\n",
              "      <td>-34.873533</td>\n",
              "    </tr>\n",
              "    <tr>\n",
              "      <th>4</th>\n",
              "      <td>FS009REC</td>\n",
              "      <td>97590</td>\n",
              "      <td>FS009</td>\n",
              "      <td>FS009</td>\n",
              "      <td>Fotossensor</td>\n",
              "      <td>AV. CDE. DA BOA VISTA,  SEMAFORO 486.</td>\n",
              "      <td>40 Km/h</td>\n",
              "      <td>-8.061165</td>\n",
              "      <td>-34.883294</td>\n",
              "    </tr>\n",
              "    <tr>\n",
              "      <th>19</th>\n",
              "      <td>FS030REC</td>\n",
              "      <td>114229</td>\n",
              "      <td>FS030</td>\n",
              "      <td>FS030</td>\n",
              "      <td>Fotossensor</td>\n",
              "      <td>AV. LIBERDADE, SEMAFORO 440</td>\n",
              "      <td>50 Km/h</td>\n",
              "      <td>-8.081111</td>\n",
              "      <td>-34.968354</td>\n",
              "    </tr>\n",
              "    <tr>\n",
              "      <th>13</th>\n",
              "      <td>FS024REC</td>\n",
              "      <td>137425</td>\n",
              "      <td>FS024</td>\n",
              "      <td>FS024</td>\n",
              "      <td>Fotossensor</td>\n",
              "      <td>RUA GUILHERME PINTO, SEMAFORO 432.</td>\n",
              "      <td>40 Km/h</td>\n",
              "      <td>-8.052160</td>\n",
              "      <td>-34.902170</td>\n",
              "    </tr>\n",
              "    <tr>\n",
              "      <th>0</th>\n",
              "      <td>FS002REC</td>\n",
              "      <td>184834</td>\n",
              "      <td>FS002</td>\n",
              "      <td>FS002</td>\n",
              "      <td>Fotossensor</td>\n",
              "      <td>RUA MADRE DE DEUS, SEMAFORO 020.</td>\n",
              "      <td>30 Km/h</td>\n",
              "      <td>-8.063400</td>\n",
              "      <td>-34.873669</td>\n",
              "    </tr>\n",
              "    <tr>\n",
              "      <th>14</th>\n",
              "      <td>FS025REC</td>\n",
              "      <td>201263</td>\n",
              "      <td>FS025</td>\n",
              "      <td>FS025</td>\n",
              "      <td>Fotossensor</td>\n",
              "      <td>AV. DESEMBARGADOR JOSÉ NEVES, SEMAFORO 580</td>\n",
              "      <td>50 Km/h</td>\n",
              "      <td>-8.121513</td>\n",
              "      <td>-34.909343</td>\n",
              "    </tr>\n",
              "    <tr>\n",
              "      <th>18</th>\n",
              "      <td>FS029REC</td>\n",
              "      <td>232432</td>\n",
              "      <td>FS029</td>\n",
              "      <td>FS029</td>\n",
              "      <td>Fotossensor</td>\n",
              "      <td>RUA FALCAO DE LACERDA SEMAFORO 285</td>\n",
              "      <td>50 Km/h</td>\n",
              "      <td>-8.092039</td>\n",
              "      <td>-34.961494</td>\n",
              "    </tr>\n",
              "    <tr>\n",
              "      <th>20</th>\n",
              "      <td>FS033REC</td>\n",
              "      <td>271431</td>\n",
              "      <td>FS033</td>\n",
              "      <td>FS033</td>\n",
              "      <td>Fotossensor</td>\n",
              "      <td>AV. DR. JOSE RUFINO, SEMAFORO 082.</td>\n",
              "      <td>60 Km/h</td>\n",
              "      <td>-8.084630</td>\n",
              "      <td>-34.928030</td>\n",
              "    </tr>\n",
              "    <tr>\n",
              "      <th>9</th>\n",
              "      <td>FS020REC</td>\n",
              "      <td>316038</td>\n",
              "      <td>FS020</td>\n",
              "      <td>FS020</td>\n",
              "      <td>Fotossensor</td>\n",
              "      <td>AV. BEBERIBE, SEMAFORO 131.</td>\n",
              "      <td>60 Km/h</td>\n",
              "      <td>-8.027869</td>\n",
              "      <td>-34.892909</td>\n",
              "    </tr>\n",
              "    <tr>\n",
              "      <th>17</th>\n",
              "      <td>FS028REC</td>\n",
              "      <td>316873</td>\n",
              "      <td>FS028</td>\n",
              "      <td>FS028</td>\n",
              "      <td>Fotossensor</td>\n",
              "      <td>RUA VISCONDE DE JEQUITINHONHA,SEMAFORO 158</td>\n",
              "      <td>60 Km/h</td>\n",
              "      <td>-8.136283</td>\n",
              "      <td>-34.903581</td>\n",
              "    </tr>\n",
              "    <tr>\n",
              "      <th>16</th>\n",
              "      <td>FS027REC</td>\n",
              "      <td>353756</td>\n",
              "      <td>FS027</td>\n",
              "      <td>FS027</td>\n",
              "      <td>Fotossensor</td>\n",
              "      <td>RUA VISCONDE DE JEQUITINHONHA,SEMAFORO 158</td>\n",
              "      <td>60 Km/h</td>\n",
              "      <td>-8.136283</td>\n",
              "      <td>-34.903581</td>\n",
              "    </tr>\n",
              "    <tr>\n",
              "      <th>15</th>\n",
              "      <td>FS026REC</td>\n",
              "      <td>371691</td>\n",
              "      <td>FS026</td>\n",
              "      <td>FS026</td>\n",
              "      <td>Fotossensor</td>\n",
              "      <td>AV. DESEMBARGADOR JOSÉ NEVES, SEMAFORO 400</td>\n",
              "      <td>50 Km/h</td>\n",
              "      <td>-8.121430</td>\n",
              "      <td>-34.909838</td>\n",
              "    </tr>\n",
              "    <tr>\n",
              "      <th>12</th>\n",
              "      <td>FS023REC</td>\n",
              "      <td>383498</td>\n",
              "      <td>FS023</td>\n",
              "      <td>FS023</td>\n",
              "      <td>Fotossensor</td>\n",
              "      <td>AV.NORTE MIGUEL ARRAES DE ALENCAR, SEMAFORO 424</td>\n",
              "      <td>60 Km/h</td>\n",
              "      <td>-8.018274</td>\n",
              "      <td>-34.928304</td>\n",
              "    </tr>\n",
              "    <tr>\n",
              "      <th>11</th>\n",
              "      <td>FS022REC</td>\n",
              "      <td>546127</td>\n",
              "      <td>FS022</td>\n",
              "      <td>FS022</td>\n",
              "      <td>Fotossensor</td>\n",
              "      <td>RUA REAL DA TORRE, SEMAFORO 237.</td>\n",
              "      <td>50 Km/h</td>\n",
              "      <td>-8.055380</td>\n",
              "      <td>-34.909060</td>\n",
              "    </tr>\n",
              "    <tr>\n",
              "      <th>5</th>\n",
              "      <td>FS010REC</td>\n",
              "      <td>587618</td>\n",
              "      <td>FS010</td>\n",
              "      <td>FS010</td>\n",
              "      <td>Fotossensor</td>\n",
              "      <td>AV. GOV. AGAMENON MAGALHAES, SEMAFORO 069.</td>\n",
              "      <td>60 Km/h</td>\n",
              "      <td>-8.062624</td>\n",
              "      <td>-34.897361</td>\n",
              "    </tr>\n",
              "    <tr>\n",
              "      <th>7</th>\n",
              "      <td>FS014REC</td>\n",
              "      <td>665185</td>\n",
              "      <td>FS014</td>\n",
              "      <td>FS014</td>\n",
              "      <td>Fotossensor</td>\n",
              "      <td>AV. BOA VIAGEM,  SEMAFORO 104.</td>\n",
              "      <td>60 Km/h</td>\n",
              "      <td>-8.091901</td>\n",
              "      <td>-34.882088</td>\n",
              "    </tr>\n",
              "    <tr>\n",
              "      <th>10</th>\n",
              "      <td>FS021REC</td>\n",
              "      <td>729086</td>\n",
              "      <td>FS021</td>\n",
              "      <td>FS021</td>\n",
              "      <td>Fotossensor</td>\n",
              "      <td>AV. ENG. ABDIAS DE CARVALHO, SEMAFORO 328.</td>\n",
              "      <td>60 Km/h</td>\n",
              "      <td>-8.062420</td>\n",
              "      <td>-34.916880</td>\n",
              "    </tr>\n",
              "    <tr>\n",
              "      <th>2</th>\n",
              "      <td>FS004REC</td>\n",
              "      <td>983338</td>\n",
              "      <td>FS004</td>\n",
              "      <td>FS004</td>\n",
              "      <td>Fotossensor</td>\n",
              "      <td>AV. HERCULANO BANDEIRA, SEMAFORO 137.</td>\n",
              "      <td>60 Km/h</td>\n",
              "      <td>-8.088792</td>\n",
              "      <td>-34.885225</td>\n",
              "    </tr>\n",
              "    <tr>\n",
              "      <th>21</th>\n",
              "      <td>FS037REC</td>\n",
              "      <td>996178</td>\n",
              "      <td>FS037</td>\n",
              "      <td>FS037</td>\n",
              "      <td>Fotossensor</td>\n",
              "      <td>AV. GOV. AGAMENON MAGALHAES, SEMAFORO 069</td>\n",
              "      <td>60 Km/h</td>\n",
              "      <td>-8.062680</td>\n",
              "      <td>-34.897330</td>\n",
              "    </tr>\n",
              "    <tr>\n",
              "      <th>6</th>\n",
              "      <td>FS012REC</td>\n",
              "      <td>1078051</td>\n",
              "      <td>FS012</td>\n",
              "      <td>FS012</td>\n",
              "      <td>Fotossensor</td>\n",
              "      <td>AV. GOV. AGAMENON MAGALHAES, SEMAFORO 173.</td>\n",
              "      <td>60 Km/h</td>\n",
              "      <td>-8.051693</td>\n",
              "      <td>-34.895032</td>\n",
              "    </tr>\n",
              "    <tr>\n",
              "      <th>3</th>\n",
              "      <td>FS006REC</td>\n",
              "      <td>1122759</td>\n",
              "      <td>FS006</td>\n",
              "      <td>FS006</td>\n",
              "      <td>Fotossensor</td>\n",
              "      <td>AV. ENG. DOMINGOS FERREIRA, SEMAFORO 297.</td>\n",
              "      <td>60 Km/h</td>\n",
              "      <td>-8.105267</td>\n",
              "      <td>-34.889605</td>\n",
              "    </tr>\n",
              "  </tbody>\n",
              "</table>\n",
              "</div>"
            ],
            "text/plain": [
              "   equipamento_x    Fluxo codFotoSensor  ... velocidade_via  latitude  longitude\n",
              "8       FS018REC    30677         FS018  ...        60 Km/h -8.027762 -34.928001\n",
              "1       FS003REC    43147         FS003  ...        30 Km/h -8.063579 -34.873533\n",
              "4       FS009REC    97590         FS009  ...        40 Km/h -8.061165 -34.883294\n",
              "19      FS030REC   114229         FS030  ...        50 Km/h -8.081111 -34.968354\n",
              "13      FS024REC   137425         FS024  ...        40 Km/h -8.052160 -34.902170\n",
              "0       FS002REC   184834         FS002  ...        30 Km/h -8.063400 -34.873669\n",
              "14      FS025REC   201263         FS025  ...        50 Km/h -8.121513 -34.909343\n",
              "18      FS029REC   232432         FS029  ...        50 Km/h -8.092039 -34.961494\n",
              "20      FS033REC   271431         FS033  ...        60 Km/h -8.084630 -34.928030\n",
              "9       FS020REC   316038         FS020  ...        60 Km/h -8.027869 -34.892909\n",
              "17      FS028REC   316873         FS028  ...        60 Km/h -8.136283 -34.903581\n",
              "16      FS027REC   353756         FS027  ...        60 Km/h -8.136283 -34.903581\n",
              "15      FS026REC   371691         FS026  ...        50 Km/h -8.121430 -34.909838\n",
              "12      FS023REC   383498         FS023  ...        60 Km/h -8.018274 -34.928304\n",
              "11      FS022REC   546127         FS022  ...        50 Km/h -8.055380 -34.909060\n",
              "5       FS010REC   587618         FS010  ...        60 Km/h -8.062624 -34.897361\n",
              "7       FS014REC   665185         FS014  ...        60 Km/h -8.091901 -34.882088\n",
              "10      FS021REC   729086         FS021  ...        60 Km/h -8.062420 -34.916880\n",
              "2       FS004REC   983338         FS004  ...        60 Km/h -8.088792 -34.885225\n",
              "21      FS037REC   996178         FS037  ...        60 Km/h -8.062680 -34.897330\n",
              "6       FS012REC  1078051         FS012  ...        60 Km/h -8.051693 -34.895032\n",
              "3       FS006REC  1122759         FS006  ...        60 Km/h -8.105267 -34.889605\n",
              "\n",
              "[22 rows x 9 columns]"
            ]
          },
          "metadata": {},
          "execution_count": 23
        }
      ]
    },
    {
      "cell_type": "code",
      "metadata": {
        "colab": {
          "base_uri": "https://localhost:8080/",
          "height": 806
        },
        "id": "74e187bf",
        "outputId": "8df56f6d-eb73-4e29-baf1-b07493be5f99"
      },
      "source": [
        "# Parâmetros iniciais\n",
        "\n",
        "rotulos = dfMergeSensorEquip['logradouro']\n",
        "x = np.arange(len(rotulos))\n",
        "width = 0.35 # distanciamento das barras\n",
        "\n",
        "fig, ax = plt.subplots(figsize=(15, 8))\n",
        "\n",
        "# gerando dados para gráfico de barras\n",
        "\n",
        "movie_bar = ax.bar(x - width/2, dfMergeSensorEquip['Fluxo'], width)\n",
        "\n",
        "# definindo o nome dos eixos e Título\n",
        "\n",
        "ax.set_xlabel('Lugares')\n",
        "ax.set_ylabel('Valores')\n",
        "ax.set_title('Volume de Fotosensores', fontsize = 15)\n",
        "ax.set_xticks(x)\n",
        "plt.xticks(rotation = 90) # Rotaciona os rótulos do eixo x em 90o.\n",
        "ax.set_xticklabels(rotulos)\n",
        "\n",
        "plt.rcParams.update({'font.size': 8})\n",
        "\n",
        "# adicionando legenda\n",
        "\n",
        "ax.legend()\n",
        "\n",
        "def get_label(qtds):\n",
        "    for i in qtds:\n",
        "        altura = i.get_height()\n",
        "        ax.annotate('{}'.format(altura,), xy=(i.get_x()+ i.get_width()/2, altura),\n",
        "                xytext=(0,3),\n",
        "                textcoords=\"offset points\",\n",
        "                ha='center', va='bottom')\n",
        "\n",
        "  \n",
        "get_label(movie_bar)"
      ],
      "id": "74e187bf",
      "execution_count": 24,
      "outputs": [
        {
          "output_type": "stream",
          "name": "stderr",
          "text": [
            "No handles with labels found to put in legend.\n"
          ]
        },
        {
          "output_type": "display_data",
          "data": {
            "image/png": "[encoded data removed]",
            "text/plain": [
              "<Figure size 1080x576 with 1 Axes>"
            ]
          },
          "metadata": {
            "needs_background": "light"
          }
        }
      ]
    },
    {
      "cell_type": "markdown",
      "metadata": {
        "id": "c32e6382"
      },
      "source": [
        "## Trabalhando Dados de Trecho"
      ],
      "id": "c32e6382"
    },
    {
      "cell_type": "code",
      "metadata": {
        "colab": {
          "base_uri": "https://localhost:8080/",
          "height": 261
        },
        "id": "c79a4d8e",
        "outputId": "a32cdf3a-f4ab-4bcf-bc8b-4dcb19d3d280"
      },
      "source": [
        "dfTrecho = pd.read_csv(r\"/content/WebStreetPE/trechoslogradouro.csv\", sep = \";\")\n",
        "dfTrecho.head()"
      ],
      "id": "c79a4d8e",
      "execution_count": 25,
      "outputs": [
        {
          "output_type": "execute_result",
          "data": {
            "text/html": [
              "<div>\n",
              "<style scoped>\n",
              "    .dataframe tbody tr th:only-of-type {\n",
              "        vertical-align: middle;\n",
              "    }\n",
              "\n",
              "    .dataframe tbody tr th {\n",
              "        vertical-align: top;\n",
              "    }\n",
              "\n",
              "    .dataframe thead th {\n",
              "        text-align: right;\n",
              "    }\n",
              "</style>\n",
              "<table border=\"1\" class=\"dataframe\">\n",
              "  <thead>\n",
              "    <tr style=\"text-align: right;\">\n",
              "      <th></th>\n",
              "      <th>codlogradouro</th>\n",
              "      <th>nome_logradouro_concatenado</th>\n",
              "      <th>nome_oficial_logradouro</th>\n",
              "      <th>nome_logradouro_resumido</th>\n",
              "      <th>cod_indica_pavimentacao</th>\n",
              "      <th>desc_indica_pavimentacao</th>\n",
              "      <th>indica_corredor_transporte</th>\n",
              "      <th>indica_perimetral</th>\n",
              "      <th>codbairro</th>\n",
              "      <th>nomeBairro</th>\n",
              "    </tr>\n",
              "  </thead>\n",
              "  <tbody>\n",
              "    <tr>\n",
              "      <th>0</th>\n",
              "      <td>6939</td>\n",
              "      <td>RUA ARACATUBA</td>\n",
              "      <td>Rua Araçatuba</td>\n",
              "      <td>R. Aracatuba</td>\n",
              "      <td>S</td>\n",
              "      <td>Via Pavimentada</td>\n",
              "      <td>NaN</td>\n",
              "      <td>NaN</td>\n",
              "      <td>213</td>\n",
              "      <td>IPSEP</td>\n",
              "    </tr>\n",
              "    <tr>\n",
              "      <th>1</th>\n",
              "      <td>6947</td>\n",
              "      <td>RUA ARACE</td>\n",
              "      <td>Rua Arace</td>\n",
              "      <td>R. Arace</td>\n",
              "      <td>S</td>\n",
              "      <td>Via Pavimentada</td>\n",
              "      <td>NaN</td>\n",
              "      <td>NaN</td>\n",
              "      <td>566</td>\n",
              "      <td>NOVA DESCOBERTA</td>\n",
              "    </tr>\n",
              "    <tr>\n",
              "      <th>2</th>\n",
              "      <td>6955</td>\n",
              "      <td>RUA ARACOIABA</td>\n",
              "      <td>Rua Araçoiaba</td>\n",
              "      <td>R. Aracoiaba</td>\n",
              "      <td>X</td>\n",
              "      <td>Não definida</td>\n",
              "      <td>NaN</td>\n",
              "      <td>NaN</td>\n",
              "      <td>892</td>\n",
              "      <td>TEJIPIO</td>\n",
              "    </tr>\n",
              "    <tr>\n",
              "      <th>3</th>\n",
              "      <td>10502</td>\n",
              "      <td>RUA BEATRIZ</td>\n",
              "      <td>Rua Beatriz</td>\n",
              "      <td>R. Beatriz</td>\n",
              "      <td>S</td>\n",
              "      <td>Via Pavimentada</td>\n",
              "      <td>NaN</td>\n",
              "      <td>NaN</td>\n",
              "      <td>337</td>\n",
              "      <td>AGUA FRIA</td>\n",
              "    </tr>\n",
              "    <tr>\n",
              "      <th>4</th>\n",
              "      <td>10510</td>\n",
              "      <td>RUA BEBEDOURO</td>\n",
              "      <td>Rua Bebedouro</td>\n",
              "      <td>R. Bebedouro</td>\n",
              "      <td>S</td>\n",
              "      <td>Via Pavimentada</td>\n",
              "      <td>NaN</td>\n",
              "      <td>NaN</td>\n",
              "      <td>523</td>\n",
              "      <td>ALTO JOSE DO PINHO</td>\n",
              "    </tr>\n",
              "  </tbody>\n",
              "</table>\n",
              "</div>"
            ],
            "text/plain": [
              "   codlogradouro nome_logradouro_concatenado  ... codbairro          nomeBairro\n",
              "0           6939               RUA ARACATUBA  ...       213               IPSEP\n",
              "1           6947                   RUA ARACE  ...       566     NOVA DESCOBERTA\n",
              "2           6955               RUA ARACOIABA  ...       892             TEJIPIO\n",
              "3          10502                 RUA BEATRIZ  ...       337           AGUA FRIA\n",
              "4          10510               RUA BEBEDOURO  ...       523  ALTO JOSE DO PINHO\n",
              "\n",
              "[5 rows x 10 columns]"
            ]
          },
          "metadata": {},
          "execution_count": 25
        }
      ]
    },
    {
      "cell_type": "code",
      "metadata": {
        "colab": {
          "base_uri": "https://localhost:8080/",
          "height": 423
        },
        "id": "951dc996",
        "outputId": "0556b9d0-7385-4814-bd24-401f87a6d6c3"
      },
      "source": [
        "dfTrecho[[\"nomeBairro\",'nome_logradouro_resumido']]"
      ],
      "id": "951dc996",
      "execution_count": 26,
      "outputs": [
        {
          "output_type": "execute_result",
          "data": {
            "text/html": [
              "<div>\n",
              "<style scoped>\n",
              "    .dataframe tbody tr th:only-of-type {\n",
              "        vertical-align: middle;\n",
              "    }\n",
              "\n",
              "    .dataframe tbody tr th {\n",
              "        vertical-align: top;\n",
              "    }\n",
              "\n",
              "    .dataframe thead th {\n",
              "        text-align: right;\n",
              "    }\n",
              "</style>\n",
              "<table border=\"1\" class=\"dataframe\">\n",
              "  <thead>\n",
              "    <tr style=\"text-align: right;\">\n",
              "      <th></th>\n",
              "      <th>nomeBairro</th>\n",
              "      <th>nome_logradouro_resumido</th>\n",
              "    </tr>\n",
              "  </thead>\n",
              "  <tbody>\n",
              "    <tr>\n",
              "      <th>0</th>\n",
              "      <td>IPSEP</td>\n",
              "      <td>R. Aracatuba</td>\n",
              "    </tr>\n",
              "    <tr>\n",
              "      <th>1</th>\n",
              "      <td>NOVA DESCOBERTA</td>\n",
              "      <td>R. Arace</td>\n",
              "    </tr>\n",
              "    <tr>\n",
              "      <th>2</th>\n",
              "      <td>TEJIPIO</td>\n",
              "      <td>R. Aracoiaba</td>\n",
              "    </tr>\n",
              "    <tr>\n",
              "      <th>3</th>\n",
              "      <td>AGUA FRIA</td>\n",
              "      <td>R. Beatriz</td>\n",
              "    </tr>\n",
              "    <tr>\n",
              "      <th>4</th>\n",
              "      <td>ALTO JOSE DO PINHO</td>\n",
              "      <td>R. Bebedouro</td>\n",
              "    </tr>\n",
              "    <tr>\n",
              "      <th>...</th>\n",
              "      <td>...</td>\n",
              "      <td>...</td>\n",
              "    </tr>\n",
              "    <tr>\n",
              "      <th>11916</th>\n",
              "      <td>IBURA</td>\n",
              "      <td>R. Lourival Bandeira de Melo</td>\n",
              "    </tr>\n",
              "    <tr>\n",
              "      <th>11917</th>\n",
              "      <td>IBURA</td>\n",
              "      <td>R. José Durval Carneiro</td>\n",
              "    </tr>\n",
              "    <tr>\n",
              "      <th>11918</th>\n",
              "      <td>IBURA</td>\n",
              "      <td>R. Dr Achilles Amorim Moura</td>\n",
              "    </tr>\n",
              "    <tr>\n",
              "      <th>11919</th>\n",
              "      <td>IBURA</td>\n",
              "      <td>R. Reinaldo Dorneles Camara</td>\n",
              "    </tr>\n",
              "    <tr>\n",
              "      <th>11920</th>\n",
              "      <td>BARRO</td>\n",
              "      <td>R. Piloto Nestor Silva Junior</td>\n",
              "    </tr>\n",
              "  </tbody>\n",
              "</table>\n",
              "<p>11921 rows × 2 columns</p>\n",
              "</div>"
            ],
            "text/plain": [
              "               nomeBairro       nome_logradouro_resumido\n",
              "0                   IPSEP                   R. Aracatuba\n",
              "1         NOVA DESCOBERTA                       R. Arace\n",
              "2                 TEJIPIO                   R. Aracoiaba\n",
              "3               AGUA FRIA                     R. Beatriz\n",
              "4      ALTO JOSE DO PINHO                   R. Bebedouro\n",
              "...                   ...                            ...\n",
              "11916               IBURA   R. Lourival Bandeira de Melo\n",
              "11917               IBURA        R. José Durval Carneiro\n",
              "11918               IBURA    R. Dr Achilles Amorim Moura\n",
              "11919               IBURA    R. Reinaldo Dorneles Camara\n",
              "11920               BARRO  R. Piloto Nestor Silva Junior\n",
              "\n",
              "[11921 rows x 2 columns]"
            ]
          },
          "metadata": {},
          "execution_count": 26
        }
      ]
    },
    {
      "cell_type": "markdown",
      "metadata": {
        "id": "c74d70d2"
      },
      "source": [
        "## Trabalhando com Grafos"
      ],
      "id": "c74d70d2"
    },
    {
      "cell_type": "code",
      "metadata": {
        "id": "c6284c67"
      },
      "source": [
        "import pandas as pd\n",
        "import matplotlib.pyplot as plt\n",
        "%matplotlib inline\n",
        "import seaborn as sns\n",
        "import numpy as np\n",
        "import networkx as nx\n",
        "\n",
        "#Minhas funções\n",
        "def grauMedio(G):\n",
        "    i = 0\n",
        "    vetorDeGraus = np.zeros(G.order())\n",
        "    for no in G.degree():\n",
        "        vetorDeGraus[i] = no[1]\n",
        "        i += 1\n",
        "    grauMedio = np.mean(vetorDeGraus)\n",
        "    return grauMedio\n",
        "\n",
        "def entropia(G):\n",
        "    entropia = 0\n",
        "    freq = nx.degree_histogram(G)\n",
        "    for i in range(len(freq)):\n",
        "        if freq[i] != 0: \n",
        "            entropia = entropia - freq[i]*np.log2(freq[i])\n",
        "    return entropia"
      ],
      "id": "c6284c67",
      "execution_count": 5,
      "outputs": []
    },
    {
      "cell_type": "code",
      "metadata": {
        "colab": {
          "base_uri": "https://localhost:8080/"
        },
        "id": "dd7cc663",
        "outputId": "e651ecbc-0741-4107-d7e5-ac3a7051b65e"
      },
      "source": [
        "G = nx.Graph()\n",
        "\n",
        "#G = nx.Graph([(\"R. Cláudio Brotherhood\",\"Rua Áureo Xavier\"),(\"R. Cláudio Brotherhood\",\"R. Euríco de Souza Leão\")])\n",
        "G = nx.Graph([(\"R. Cláudio Brotherhood\",\"Rua Áureo Xavier\")])\n",
        "G.edges()\n",
        "#nx.draw_networkx(G)\n",
        "#plt.show()"
      ],
      "id": "dd7cc663",
      "execution_count": 3,
      "outputs": [
        {
          "output_type": "execute_result",
          "data": {
            "text/plain": [
              "EdgeView([('R. Cláudio Brotherhood', 'Rua Áureo Xavier')])"
            ]
          },
          "metadata": {},
          "execution_count": 3
        }
      ]
    },
    {
      "cell_type": "code",
      "metadata": {
        "colab": {
          "base_uri": "https://localhost:8080/",
          "height": 357
        },
        "id": "fdb5458c",
        "outputId": "bfdde4e8-ddff-4865-eda2-de63f85ec33f"
      },
      "source": [
        "def nudge(pos, x_shift, y_shift):\n",
        "    return {n:(x + x_shift, y + y_shift) for n,(x,y) in pos.items()}\n",
        "\n",
        "\n",
        "#G = nx.Graph()\n",
        "\n",
        "#G = nx.Graph([(\"R. Cláudio Brotherhood\",\"Rua Áureo Xavier\"),(\"R. Cláudio Brotherhood\",\"R. Euríco de Souza Leão\")])\n",
        "G = nx.Graph([(\"R. Cláudio Brotherhood\",\"R. Áureo Xavier\"), (\"R. Áureo Xavier\", \"R. Cláudio Brotherhood\")])\n",
        "\n",
        "fig, ax = plt.subplots(1,1,figsize=(12,6))\n",
        "pos = nx.spring_layout(G)\n",
        "pos_nodes = nudge(pos, 0, 0.1)\n",
        "\n",
        "#nx.draw_networkx(G,with_labels=True, pos = pos_nodes, node_size=350, node_color='Black' ,ax=ax[0])\n",
        "\n",
        "nx.draw_networkx(G, pos=pos, with_labels=False, ax=ax, node_color='Black')\n",
        "nx.draw_networkx_labels(G, pos=pos_nodes, ax=ax)\n",
        "\n",
        "ax.margins(0.8, 0.8) \n",
        "plt.show()"
      ],
      "id": "fdb5458c",
      "execution_count": 7,
      "outputs": [
        {
          "output_type": "display_data",
          "data": {
            "image/png": "[encoded data removed]",
            "text/plain": [
              "<Figure size 864x432 with 1 Axes>"
            ]
          },
          "metadata": {}
        }
      ]
    },
    {
      "cell_type": "code",
      "metadata": {
        "id": "3XqIFJ-kiChG"
      },
      "source": [
        "def nudge(pos, x_shift, y_shift):\n",
        "    return {n:(x + x_shift, y + y_shift) for n,(x,y) in pos.items()}\n",
        "\n",
        "\n",
        "def plotIndicadoresGrafos(G):\n",
        "  print('\\n\\n'+'\\033[1m' + 'Indicadores' + '\\033[0m')\n",
        "  print('Densidade: \\t\\t', nx.density(G))\n",
        "  print(\"Coef. Clusterização: \\t\", nx.average_clustering(G))\n",
        "  print(\"Grau médio: \\t\\t\", grauMedio(G))\n",
        "  print(\"Entropia: \\t\\t\", entropia(G))\n",
        "  print(\"Assortatividade: \\t\", nx.degree_assortativity_coefficient(G))\n",
        "\n",
        "  print('\\n\\033[1m' + 'Graficos' + '\\033[0m')\n",
        "  #Autovalores\n",
        "  autovalores = nx.laplacian_spectrum(G)\n",
        "  plt.bar(np.arange(G.order()), autovalores)\n",
        "  plt.title(\"Autovalores\")\n",
        "  plt.show()\n",
        "\n",
        "  #Disrtibuição\n",
        "  freq = nx.degree_histogram(G)\n",
        "  plt.title(\"Distribuição\")\n",
        "  plt.bar(np.arange(len(freq)), freq)\n",
        "  plt.show()\n",
        "\n",
        "  #Grafos\n",
        "    \n",
        "  fig, ax = plt.subplots(1,1,figsize=(12,6))\n",
        "  pos = nx.spring_layout(G)\n",
        "  pos_nodes = nudge(pos, 0, 0.1)\n",
        "\n",
        "  nx.draw_networkx(G, pos=pos, with_labels=False, ax=ax, node_color='Black')\n",
        "  nx.draw_networkx_labels(G, pos=pos_nodes, ax=ax)\n",
        "  ax.margins(0.8, 0.8)\n",
        "\n",
        "  plt.title(\"Grafo\")\n",
        "\n",
        "  plt.show()"
      ],
      "id": "3XqIFJ-kiChG",
      "execution_count": 34,
      "outputs": []
    },
    {
      "cell_type": "code",
      "metadata": {
        "colab": {
          "base_uri": "https://localhost:8080/",
          "height": 1000
        },
        "id": "W4jNe1TGvtfZ",
        "outputId": "2b79632b-2dbd-4ae1-d631-43af2bf21d04"
      },
      "source": [
        "plotIndicadoresGrafos(G)"
      ],
      "id": "W4jNe1TGvtfZ",
      "execution_count": 37,
      "outputs": [
        {
          "output_type": "stream",
          "name": "stdout",
          "text": [
            "\n",
            "\n",
            "\u001b[1mIndicadores\u001b[0m\n",
            "Densidade: \t\t 1.0\n",
            "Coef. Clusterização: \t 0.0\n",
            "Grau médio: \t\t 1.0\n",
            "Entropia: \t\t -2.0\n",
            "Assortatividade: \t nan\n",
            "\n",
            "\u001b[1mGraficos\u001b[0m\n"
          ]
        },
        {
          "output_type": "stream",
          "name": "stderr",
          "text": [
            "/usr/local/lib/python3.7/dist-packages/networkx/algorithms/assortativity/correlation.py:282: RuntimeWarning: invalid value encountered in double_scalars\n",
            "  return (xy * (M - ab)).sum() / np.sqrt(vara * varb)\n"
          ]
        },
        {
          "output_type": "display_data",
          "data": {
            "image/png": "[encoded data removed]",
            "text/plain": [
              "<Figure size 432x288 with 1 Axes>"
            ]
          },
          "metadata": {
            "needs_background": "light"
          }
        },
        {
          "output_type": "display_data",
          "data": {
            "image/png": "[encoded data removed]",
            "text/plain": [
              "<Figure size 432x288 with 1 Axes>"
            ]
          },
          "metadata": {
            "needs_background": "light"
          }
        },
        {
          "output_type": "display_data",
          "data": {
            "image/png": "[encoded data removed]",
            "text/plain": [
              "<Figure size 864x432 with 1 Axes>"
            ]
          },
          "metadata": {}
        }
      ]
    },
    {
      "cell_type": "code",
      "metadata": {
        "id": "hdappjlUvvLr"
      },
      "source": [
        ""
      ],
      "id": "hdappjlUvvLr",
      "execution_count": null,
      "outputs": []
    }
  ]
}